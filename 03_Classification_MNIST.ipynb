{
 "cells": [
  {
   "cell_type": "markdown",
   "metadata": {},
   "source": [
    "Goal: \n",
    "    1. Binary Classification [One vs. Rest]\n",
    "    2. Performance Metrics; acc (cannot solely rely on this), precision, TPR, ROC Curve\n",
    "    3. Multilabel vs. Multiclass Classification "
   ]
  },
  {
   "cell_type": "code",
   "execution_count": 196,
   "metadata": {},
   "outputs": [],
   "source": [
    "import os\n",
    "from six.moves import urllib\n",
    "import tarfile\n",
    "import numpy as np\n",
    "import pandas as pd\n",
    "import matplotlib as mpl\n",
    "import matplotlib.pyplot as plt\n",
    "import seaborn as sns\n",
    "from sklearn.datasets import fetch_openml\n",
    "from sklearn.model_selection import train_test_split, StratifiedShuffleSplit\n",
    "from sklearn.preprocessing import Imputer, LabelEncoder,OneHotEncoder,LabelBinarizer, StandardScaler, minmax_scale\n",
    "from sklearn.impute import SimpleImputer\n",
    "from sklearn.pipeline import Pipeline,FeatureUnion,make_pipeline\n",
    "from sklearn.linear_model import SGDClassifier\n",
    "from sklearn.ensemble import RandomForestClassifier\n",
    "from sklearn.svm import SVR\n",
    "from sklearn.metrics import precision_score,recall_score,f1_score,precision_recall_curve,roc_curve,roc_auc_score\n",
    "from sklearn.model_selection import cross_val_score,cross_val_predict, GridSearchCV,RandomizedSearchCV\n",
    "from sklearn.metrics import SCORERS\n",
    "from sklearn.multiclass import OneVsOneClassifier\n",
    "import warnings\n",
    "from sklearn.compose import ColumnTransformer\n",
    "warnings.filterwarnings(\"ignore\")"
   ]
  },
  {
   "cell_type": "markdown",
   "metadata": {},
   "source": [
    "Fetch and load the MNIST Data"
   ]
  },
  {
   "cell_type": "code",
   "execution_count": 10,
   "metadata": {},
   "outputs": [
    {
     "name": "stdout",
     "output_type": "stream",
     "text": [
      "(array([[0., 0., 0., ..., 0., 0., 0.],\n",
      "       [0., 0., 0., ..., 0., 0., 0.],\n",
      "       [0., 0., 0., ..., 0., 0., 0.],\n",
      "       ...,\n",
      "       [0., 0., 0., ..., 0., 0., 0.],\n",
      "       [0., 0., 0., ..., 0., 0., 0.],\n",
      "       [0., 0., 0., ..., 0., 0., 0.]]), array(['5', '0', '4', ..., '4', '5', '6'], dtype=object))\n"
     ]
    }
   ],
   "source": [
    "# Available on: https://www.openml.org/d/554\n",
    "# This dataset is already saved as a tuple(data,target,object) and each one of the elements are accessible\n",
    "mnist = fetch_openml('mnist_784',version=1,return_X_y=True) #tuple containing data, and target "
   ]
  },
  {
   "cell_type": "markdown",
   "metadata": {},
   "source": [
    "Explore the data"
   ]
  },
  {
   "cell_type": "code",
   "execution_count": 130,
   "metadata": {},
   "outputs": [
    {
     "name": "stdout",
     "output_type": "stream",
     "text": [
      "[5 0 4 ... 4 5 6]\n"
     ]
    }
   ],
   "source": [
    "data = mnist[0]\n",
    "target = mnist[1].astype(np.int)\n",
    "print (target)\n",
    "# print(data.shape)\n",
    "# print(type(target[0]))"
   ]
  },
  {
   "cell_type": "code",
   "execution_count": 131,
   "metadata": {},
   "outputs": [
    {
     "data": {
      "image/png": "[encoded data removed]",
      "text/plain": [
       "<Figure size 432x288 with 1 Axes>"
      ]
     },
     "metadata": {
      "needs_background": "light"
     },
     "output_type": "display_data"
    }
   ],
   "source": [
    "data[0].shape # (487,)\n",
    "# Each row of the matrix representing 784 pixels associated with each digit image\n",
    "plt.imshow(X[2].reshape(28,28),cmap = mpl.cm.binary)\n",
    "plt.axis('off')\n",
    "plt.show()"
   ]
  },
  {
   "cell_type": "markdown",
   "metadata": {},
   "source": [
    "Set the test set aside and train and evaluate the model on the training set"
   ]
  },
  {
   "cell_type": "code",
   "execution_count": 144,
   "metadata": {},
   "outputs": [],
   "source": [
    "# Out of 70000 samples in MNIST, the first 60000 are train, and the rest 10000 are for testing\n",
    "np.sum(np.isnan(data))\n",
    "rand_ind = np.random.permutation(X.shape[0])\n",
    "X = data[rand_ind]\n",
    "y = target[rand_ind]\n",
    "X_train,X_test,y_train,y_test = train_test_split(X,y,test_size = 10000)\n",
    "ss = StandardScaler()\n",
    "X_train_transformed = ss.fit_transform(X_train)\n",
    "x_test_transformed = ss.transform(X_test)\n",
    "# X_test,y_test = X[60000:],y[60000:]\n",
    "# print (np.shape(X_train[:]))"
   ]
  },
  {
   "cell_type": "markdown",
   "metadata": {},
   "source": [
    "Binary Classification -- Training Score"
   ]
  },
  {
   "cell_type": "code",
   "execution_count": 160,
   "metadata": {},
   "outputs": [
    {
     "name": "stdout",
     "output_type": "stream",
     "text": [
      "(array([    0,     3,     7, ..., 59936, 59946, 59961], dtype=int64),)\n",
      "5_or_not Binary Classification Training Scores:\n",
      "Accuracy = 0.97 \n",
      "Precision = 0.89 \n",
      "Recall = 0.76\n"
     ]
    }
   ],
   "source": [
    "y_train_5 = (y_train == 5)\n",
    "y_test_5 = (y_test == 5)\n",
    "# print ((np.where(y_train == 5))) #Find indices\n",
    "sgd = SGDClassifier(random_state = 42)\n",
    "sgd.fit(X_train_transformed,y_train_5)\n",
    "y_pred = sgd.predict(X_train_transformed) # Label\n",
    "sc = sgd.score(X_train_transformed,y_train_5)\n",
    "precision = precision_score(y_train_5,y_pred)\n",
    "recall = recall_score(y_train_5,y_pred) # TPR\n",
    "# # f1_score = f1_score(y_train_5,y_pred)\n",
    "# # print (f1_score)\n",
    "print ('5_or_not Binary Classification Training Scores:\\nAccuracy = %.2f'%(sc),'\\nPrecision = %.2f'%(precision),'\\nRecall = %.2f'%(recall))\n"
   ]
  },
  {
   "cell_type": "markdown",
   "metadata": {},
   "source": [
    "Binary Classification -- Validation Score/Accuracy"
   ]
  },
  {
   "cell_type": "code",
   "execution_count": 155,
   "metadata": {},
   "outputs": [
    {
     "name": "stdout",
     "output_type": "stream",
     "text": [
      "Validation Accuracy = 0.97 (+/-) 0.00\n"
     ]
    }
   ],
   "source": [
    "# SGD might be overfitting the training data\n",
    "val_sc = cross_val_score(sgd,X_train_transformed,y_train_5)\n",
    "print ('Validation Accuracy = %.2f (+/-) %.2f'%(np.mean(val_sc),np.std(val_sc)))\n",
    "# SCORERS.keys()"
   ]
  },
  {
   "cell_type": "markdown",
   "metadata": {},
   "source": [
    "Precision-Recall Trade-off by Changing the Threshold"
   ]
  },
  {
   "cell_type": "code",
   "execution_count": 169,
   "metadata": {},
   "outputs": [
    {
     "data": {
      "image/png": "[encoded data removed]",
      "text/plain": [
       "<Figure size 432x288 with 1 Axes>"
      ]
     },
     "metadata": {
      "needs_background": "light"
     },
     "output_type": "display_data"
    }
   ],
   "source": [
    "# SGD: \n",
    "# '+' Class: assigned_score > threshold (by decision_function)\n",
    "# '-' Class: assigned_score < threshold \n",
    "# What are the scores associated with each prediction\n",
    "y_sc = sgd.decision_function(X_train_transformed)\n",
    "# print (y_sc[0:4]) # indices 0 and 3 (with the value of 5) have the highest scores\n",
    "# val_sc2 = cross_val_score(sgd, X_train[:],y_train_5)\n",
    "# **** Notice the precision curve not being smooth compared with recall ***\n",
    "precision,recall,thresholds = precision_recall_curve(y_train_5,y_sc)\n",
    "plt.plot(thresholds,precision[:-1],label = 'Precision')\n",
    "plt.plot(thresholds,recall[:-1],label = 'Recall')\n",
    "plt.legend(loc='upper left')\n",
    "plt.xlabel('Threshold')\n",
    "plt.show()"
   ]
  },
  {
   "cell_type": "code",
   "execution_count": 172,
   "metadata": {},
   "outputs": [
    {
     "data": {
      "image/png": "[encoded data removed]",
      "text/plain": [
       "<Figure size 432x288 with 1 Axes>"
      ]
     },
     "metadata": {
      "needs_background": "light"
     },
     "output_type": "display_data"
    }
   ],
   "source": [
    "plt.plot(recall,precision)\n",
    "plt.xlabel('Recall')\n",
    "plt.ylabel('Precision')\n",
    "plt.title('Precision vs. Recall Plot')\n",
    "plt.show()"
   ]
  },
  {
   "cell_type": "markdown",
   "metadata": {},
   "source": [
    "The higher the threshold:\n",
    "    1. Precision: higher \n",
    "    2. Recall: lower "
   ]
  },
  {
   "cell_type": "markdown",
   "metadata": {},
   "source": [
    "RandomForestClassifier Performance -- Binary Classification"
   ]
  },
  {
   "cell_type": "code",
   "execution_count": 186,
   "metadata": {},
   "outputs": [
    {
     "name": "stdout",
     "output_type": "stream",
     "text": [
      "5_or_not Binary Classification Training Scores(by RF):\n",
      "Accuracy = 0.97 \n",
      "Precision = 0.89 \n",
      "Recall = 0.76\n",
      "[[0.  1. ]\n",
      " [1.  0. ]\n",
      " [1.  0. ]\n",
      " ...\n",
      " [1.  0. ]\n",
      " [1.  0. ]\n",
      " [0.8 0.2]]\n"
     ]
    }
   ],
   "source": [
    "rf = RandomForestClassifier(n_estimators=10,random_state=42).fit(X_train_transformed,y_train_5)\n",
    "y_pred_rf = rf.score(X_train_transformed,y_train_5)\n",
    "precision_rf = precision_score(y_train_5,y_pred)\n",
    "recall_rf = recall_score(y_train_5,y_pred) # TPR\n",
    "# # f1_score = f1_score(y_train_5,y_pred)\n",
    "# # print (f1_score)\n",
    "print ('5_or_not Binary Classification Training Scores(by RF):\\nAccuracy = %.2f'%(sc),'\\nPrecision = %.2f'%(precision_rf),'\\nRecall = %.2f'%(recall_rf))\n",
    "# *** Predict the probability of the target associating with a class ***\n",
    "y_prob = cross_val_predict(rf,X_train_transformed,y_train_5,method='predict_proba')\n",
    "print (y_prob)\n",
    "y_sc_rf = y_prob[:,1] # Why are we selecting the 2nd col?\n",
    "fpr_rf,tpr_rf,thresh_rf = roc_curve(y_train_5,y_sc_rf)"
   ]
  },
  {
   "cell_type": "markdown",
   "metadata": {},
   "source": [
    "Binary Classification ROC Curve and AUC "
   ]
  },
  {
   "cell_type": "code",
   "execution_count": 193,
   "metadata": {},
   "outputs": [
    {
     "name": "stdout",
     "output_type": "stream",
     "text": [
      "SGD AUC = 0.98\n",
      "RF AUC = 0.98\n"
     ]
    },
    {
     "data": {
      "image/png": "[encoded data removed]",
      "text/plain": [
       "<Figure size 432x288 with 1 Axes>"
      ]
     },
     "metadata": {
      "needs_background": "light"
     },
     "output_type": "display_data"
    }
   ],
   "source": [
    "fpr,tpr,thresh = roc_curve(y_train_5,y_sc)\n",
    "auc_sc = roc_auc_score(y_train_5,y_sc)\n",
    "auc_sc_rf = roc_auc_score(y_train_5,y_sc)\n",
    "print('SGD AUC = %.2f'%(auc_sc))\n",
    "print('RF AUC = %.2f'%(auc_sc_rf))\n",
    "plt.plot(fpr,tpr,label = \"SGD\")\n",
    "plt.plot(fpr_rf,tpr_rf,label = \"RF\")\n",
    "plt.xlabel('FPR')\n",
    "plt.ylabel('TPR')\n",
    "plt.title('ROC Curve of Binary Classification (RF and SGD)')\n",
    "plt.legend(loc = 'bottom right')\n",
    "plt.show()"
   ]
  },
  {
   "cell_type": "markdown",
   "metadata": {},
   "source": [
    "Find the relatively best performing model by comparing differnt models evaluation metrics"
   ]
  },
  {
   "cell_type": "code",
   "execution_count": 75,
   "metadata": {},
   "outputs": [
    {
     "name": "stdout",
     "output_type": "stream",
     "text": [
      "[7 7 5 5]\n",
      "[7 7 5 5]\n",
      "1.0\n",
      "1.0\n"
     ]
    }
   ],
   "source": [
    "sgd = SGDClassifier() # Managing multiclass classification well\n",
    "sgd.fit(X_train[6:10],y_train[6:10])\n",
    "y_pred = sgd.predict(X_train[6:10])\n",
    "print (y_pred)\n",
    "print (y_train[6:10])\n",
    "sc = sgd.score(X_train[6:10],y_train[6:10])\n",
    "prec = precision_score(y_train[6:10],y_pred,average='micro')\n",
    "\n",
    "print (sc)\n",
    "print (prec)\n",
    "# RFC"
   ]
  },
  {
   "cell_type": "markdown",
   "metadata": {},
   "source": [
    "6. Multiclass Classification - Image Recognition"
   ]
  },
  {
   "cell_type": "code",
   "execution_count": null,
   "metadata": {},
   "outputs": [],
   "source": []
  },
  {
   "cell_type": "markdown",
   "metadata": {},
   "source": [
    "Summary:\n",
    "_____________________\n",
    "\n",
    "1. Binary vs. Multiclass, multilabel and multioutput Classification\n",
    "2. Various performance Metrics: Accuracy, Precision, Recall, F1 Score, ROC Curve(AUC Score)\n",
    "    Our choice of perf metric depends on the scope of the problem at hand\n",
    "    We can choose to have a higher precision or recall by setting a threshold value\n",
    "    ROC gives us the ability to compare models visually\n",
    "3. Multiclass Classification\n",
    "    Algs handling multiclass classification\n",
    "    one-vs-one - ex: SVM\n",
    "    one-vs-all\n",
    "    "
   ]
  },
  {
   "cell_type": "code",
   "execution_count": null,
   "metadata": {},
   "outputs": [],
   "source": []
  }
 ],
 "metadata": {
  "kernelspec": {
   "display_name": "Python 3",
   "language": "python",
   "name": "python3"
  },
  "language_info": {
   "codemirror_mode": {
    "name": "ipython",
    "version": 3
   },
   "file_extension": ".py",
   "mimetype": "text/x-python",
   "name": "python",
   "nbconvert_exporter": "python",
   "pygments_lexer": "ipython3",
   "version": "3.7.3"
  }
 },
 "nbformat": 4,
 "nbformat_minor": 2
}

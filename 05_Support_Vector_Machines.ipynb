{
 "cells": [
  {
   "cell_type": "code",
   "execution_count": 51,
   "metadata": {},
   "outputs": [],
   "source": [
    "import numpy as np \n",
    "from sklearn.datasets import load_iris,make_moons\n",
    "from sklearn.preprocessing import StandardScaler,PolynomialFeatures\n",
    "from sklearn.pipeline import Pipeline\n",
    "from sklearn.svm import SVC,LinearSVC\n",
    "from sklearn.linear_model import SGDClassifier"
   ]
  },
  {
   "cell_type": "markdown",
   "metadata": {},
   "source": [
    "Linear SVM Classification with LinearSVC"
   ]
  },
  {
   "cell_type": "code",
   "execution_count": 49,
   "metadata": {},
   "outputs": [
    {
     "name": "stdout",
     "output_type": "stream",
     "text": [
      "[1]\n",
      "Acc = 0.82\n"
     ]
    }
   ],
   "source": [
    "data, target = load_iris(return_X_y = True)\n",
    "X = data[:,:2] # limiting the feature space\n",
    "y_bin = (target == 2).astype(int) # Versicolor or not\n",
    "X_scaled = StandardScaler().fit_transform(X)\n",
    "svc = LinearSVC(C = 1, loss ='hinge') #LinearSVC based on liblinear\n",
    "svc_scaled = svc.fit(X_scaled,y_bin)\n",
    "y_pred = svc.predict([[3,4]]) # svc based on libsvm\n",
    "sc = svc.score(X_scaled,y_bin) # prediction accuracy without scaling X is 0.33:(\n",
    "print (y_pred)\n",
    "print ('Acc = %.2f'%(sc)) # why so low??!!!"
   ]
  },
  {
   "cell_type": "code",
   "execution_count": 46,
   "metadata": {},
   "outputs": [
    {
     "name": "stdout",
     "output_type": "stream",
     "text": [
      "Acc = 0.81\n",
      "[1]\n"
     ]
    },
    {
     "name": "stderr",
     "output_type": "stream",
     "text": [
      "C:\\Users\\afamili001\\AppData\\Local\\Continuum\\anaconda3\\lib\\site-packages\\sklearn\\linear_model\\stochastic_gradient.py:166: FutureWarning: max_iter and tol parameters have been added in SGDClassifier in 0.19. If both are left unset, they default to max_iter=5 and tol=None. If tol is not None, max_iter defaults to max_iter=1000. From 0.21, default max_iter will be 1000, and default tol will be 1e-3.\n",
      "  FutureWarning)\n"
     ]
    }
   ],
   "source": [
    "# Linear SVC with SGDClassifier(loss='hinge')\n",
    "sgd = SGDClassifier(loss = 'hinge').fit(X_scaled,y_bin)\n",
    "y_pred1 = sgd.predict([[3,4]])\n",
    "sc1 = sgd.score(X_scaled,y_bin)\n",
    "print ('Acc = %.2f'%(sc1))\n",
    "print (y_pred1)"
   ]
  },
  {
   "cell_type": "markdown",
   "metadata": {},
   "source": [
    "Nonlinear SVM Classification -- adding polynomial features"
   ]
  },
  {
   "cell_type": "code",
   "execution_count": 64,
   "metadata": {},
   "outputs": [],
   "source": [
    "X_moon,y_moon = make_moons()\n",
    "poly_svm = Pipeline[('poly_features',PolynomialFeatures(degree=3))\n",
    "                    ,('scaler',StandardScaler()),\n",
    "                      ('svm',LinearSVC(C=10,loss='hinge'))]\n",
    "poly_svm.fit(X_moon,y_moon)"
   ]
  },
  {
   "cell_type": "markdown",
   "metadata": {},
   "source": [
    "SVM Regression"
   ]
  },
  {
   "cell_type": "code",
   "execution_count": null,
   "metadata": {},
   "outputs": [],
   "source": []
  },
  {
   "cell_type": "code",
   "execution_count": null,
   "metadata": {},
   "outputs": [],
   "source": []
  },
  {
   "cell_type": "markdown",
   "metadata": {},
   "source": [
    "Summary:\n",
    "    1. Goal (of SVM Classifier): Finding the widest possible decision boundary separating the two classes\n",
    "    2. SVC Hyperparameters:\n",
    "        - C -- The higher the C, the narrower the decision boundary, resulting in overfitting\n",
    "    3. Nonlinear SVC - when the model is not linearly separable\n",
    "        - adding polynomial features -- might not catch the complexity in the data, or in the extreme case might be too complex and slow to run\n",
    "        - kernel:\n",
    "            - poly, degree[we may set the degree of the polynomial]\n",
    "            - Guassian RBF - Gamma (the higher the gamma, the narrower the curve around the data)and C \n",
    "                higher gamma -- narrower Guassian RBF\n",
    "                lower gamma -- wider Guassian RBf\n",
    "            - String -- used with text docs\n",
    "    4. Goal (of SVM Regression):fit as many instances as possible in the decision boundary [street]\n",
    "    !!!!!! SVC and SVR classes get TOO SLOW with b"
   ]
  },
  {
   "cell_type": "code",
   "execution_count": null,
   "metadata": {},
   "outputs": [],
   "source": []
  }
 ],
 "metadata": {
  "kernelspec": {
   "display_name": "Python 3",
   "language": "python",
   "name": "python3"
  },
  "language_info": {
   "codemirror_mode": {
    "name": "ipython",
    "version": 3
   },
   "file_extension": ".py",
   "mimetype": "text/x-python",
   "name": "python",
   "nbconvert_exporter": "python",
   "pygments_lexer": "ipython3",
   "version": "3.7.3"
  }
 },
 "nbformat": 4,
 "nbformat_minor": 2
}
